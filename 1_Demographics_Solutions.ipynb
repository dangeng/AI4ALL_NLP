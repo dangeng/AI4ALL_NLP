{
  "nbformat": 4,
  "nbformat_minor": 0,
  "metadata": {
    "colab": {
      "name": "1_Demographics.ipynb",
      "provenance": [],
      "collapsed_sections": []
    },
    "kernelspec": {
      "display_name": "Python 3",
      "language": "python",
      "name": "python3"
    },
    "language_info": {
      "codemirror_mode": {
        "name": "ipython",
        "version": 3
      },
      "file_extension": ".py",
      "mimetype": "text/x-python",
      "name": "python",
      "nbconvert_exporter": "python",
      "pygments_lexer": "ipython3",
      "version": "3.7.1"
    }
  },
  "cells": [
    {
      "cell_type": "markdown",
      "metadata": {
        "id": "_JHybRJSzXLO"
      },
      "source": [
        "# Data Visualization\n",
        "\n",
        "In this notebook we will explore a dataset called \"happyDB,\" which contains sentence describing what makes people happy. We will learn how to manipulate data with Python and visualize the data with different plots. To get started, run the next two cells to download the required data and libraries."
      ]
    },
    {
      "cell_type": "code",
      "metadata": {
        "id": "wNkyzL6yaQni",
        "outputId": "696adfb0-76e3-42f6-dc35-b1ad0612c238",
        "colab": {
          "base_uri": "https://localhost:8080/"
        }
      },
      "source": [
        "!wget https://raw.githubusercontent.com/dangeng/AI4ALL_NLP/main/lib.py\n",
        "!mkdir data\n",
        "!wget -O data/cleaned_hm.csv https://raw.githubusercontent.com/megagonlabs/HappyDB/master/happydb/data/cleaned_hm.csv\n",
        "!wget -O data/demographic.csv https://raw.githubusercontent.com/megagonlabs/HappyDB/master/happydb/data/demographic.csv"
      ],
      "execution_count": 3,
      "outputs": [
        {
          "output_type": "stream",
          "text": [
            "--2021-07-22 15:41:51--  https://raw.githubusercontent.com/dangeng/AI4ALL_NLP/main/lib.py\n",
            "Resolving raw.githubusercontent.com (raw.githubusercontent.com)... 185.199.108.133, 185.199.109.133, 185.199.110.133, ...\n",
            "Connecting to raw.githubusercontent.com (raw.githubusercontent.com)|185.199.108.133|:443... connected.\n",
            "HTTP request sent, awaiting response... 200 OK\n",
            "Length: 4003 (3.9K) [text/plain]\n",
            "Saving to: ‘lib.py.1’\n",
            "\n",
            "\rlib.py.1              0%[                    ]       0  --.-KB/s               \rlib.py.1            100%[===================>]   3.91K  --.-KB/s    in 0s      \n",
            "\n",
            "2021-07-22 15:41:51 (64.6 MB/s) - ‘lib.py.1’ saved [4003/4003]\n",
            "\n",
            "mkdir: cannot create directory ‘data’: File exists\n",
            "--2021-07-22 15:41:52--  https://raw.githubusercontent.com/megagonlabs/HappyDB/master/happydb/data/cleaned_hm.csv\n",
            "Resolving raw.githubusercontent.com (raw.githubusercontent.com)... 185.199.108.133, 185.199.109.133, 185.199.110.133, ...\n",
            "Connecting to raw.githubusercontent.com (raw.githubusercontent.com)|185.199.108.133|:443... connected.\n",
            "HTTP request sent, awaiting response... 200 OK\n",
            "Length: 22501526 (21M) [text/plain]\n",
            "Saving to: ‘data/cleaned_hm.csv’\n",
            "\n",
            "data/cleaned_hm.csv 100%[===================>]  21.46M  72.7MB/s    in 0.3s    \n",
            "\n",
            "2021-07-22 15:41:53 (72.7 MB/s) - ‘data/cleaned_hm.csv’ saved [22501526/22501526]\n",
            "\n",
            "--2021-07-22 15:41:53--  https://raw.githubusercontent.com/megagonlabs/HappyDB/master/happydb/data/demographic.csv\n",
            "Resolving raw.githubusercontent.com (raw.githubusercontent.com)... 185.199.108.133, 185.199.109.133, 185.199.110.133, ...\n",
            "Connecting to raw.githubusercontent.com (raw.githubusercontent.com)|185.199.108.133|:443... connected.\n",
            "HTTP request sent, awaiting response... 200 OK\n",
            "Length: 265240 (259K) [text/plain]\n",
            "Saving to: ‘data/demographic.csv’\n",
            "\n",
            "data/demographic.cs 100%[===================>] 259.02K  --.-KB/s    in 0.02s   \n",
            "\n",
            "2021-07-22 15:41:53 (12.0 MB/s) - ‘data/demographic.csv’ saved [265240/265240]\n",
            "\n"
          ],
          "name": "stdout"
        }
      ]
    },
    {
      "cell_type": "code",
      "metadata": {
        "id": "0M7O974naKb1"
      },
      "source": [
        "%load_ext autoreload\n",
        "%autoreload 2\n",
        "import lib\n",
        "from collections import Counter\n",
        "import numpy as np"
      ],
      "execution_count": 4,
      "outputs": []
    },
    {
      "cell_type": "markdown",
      "metadata": {
        "id": "SN5ogkaiuOrQ"
      },
      "source": [
        "## Using Lib\n",
        "In addition to outside libraries, we have provided a library called `lib` with a few functions we have defined. It will be useful to load data, and for some visualizations. "
      ]
    },
    {
      "cell_type": "markdown",
      "metadata": {
        "id": "eU1kLJMmaKb4"
      },
      "source": [
        "# Loading the Data and Checking Demographics\n",
        "We have two data files: demographic.csv and cleaned_hm.csv.\n",
        "\n",
        "* demographic.csv contains demogrpahic information about the individuals who are represented in the dataset  \n",
        "  The dataset can be loaded as a list of dictionaries by calling `lib.load_demographics()`. The keys are the columns of the table: `wid`, `age`,\t`country`,\t`gender`,\t`marital`, and\t`parenthood`\n",
        "\n",
        "* cleaned_hm.csv contains 100,000 crowd-sourced happy moments. Worker IDs listed correspond to `wid` in demographic.csv.  \n",
        "  The dataset can be loaded as a list of dictionaries by calling `lib.load_happy_moments()`.The keys are the columns of the table: \t`hmid`,\t`wid`,\t`reflection_period`,\t`original_hm`,\t`cleaned_hm`,\t`modified`,\t`num_sentence`,\t`ground_truth_category`,\t`predicted_category`\n",
        "  \n",
        "You may find `lib.load_joined_data()` to be particularly useful, as it will load all of the data you will need without you needing to combine the two tables together! The format is a list of dictionaries. The keys are the \"core\" keys from the other tables that you will use later on: `cleaned_hm`, `age`, `country`, `wid`, `gender`, `parenthood`, `marital`, and `hmid`.\n",
        "  \n",
        "We will load the data files here using the pandas library so that you can see what each file looks like; however, you aren't expected to learn how to work with pandas, so we provide functions to load the data as a dictionary"
      ]
    },
    {
      "cell_type": "code",
      "metadata": {
        "id": "yqgRbdBBaKb5",
        "outputId": "639a7ca5-b380-4175-b130-92e65501087a",
        "colab": {
          "base_uri": "https://localhost:8080/",
          "height": 359
        }
      },
      "source": [
        "lib.view_demographics()"
      ],
      "execution_count": 5,
      "outputs": [
        {
          "output_type": "execute_result",
          "data": {
            "text/html": [
              "<div>\n",
              "<style scoped>\n",
              "    .dataframe tbody tr th:only-of-type {\n",
              "        vertical-align: middle;\n",
              "    }\n",
              "\n",
              "    .dataframe tbody tr th {\n",
              "        vertical-align: top;\n",
              "    }\n",
              "\n",
              "    .dataframe thead th {\n",
              "        text-align: right;\n",
              "    }\n",
              "</style>\n",
              "<table border=\"1\" class=\"dataframe\">\n",
              "  <thead>\n",
              "    <tr style=\"text-align: right;\">\n",
              "      <th></th>\n",
              "      <th>wid</th>\n",
              "      <th>age</th>\n",
              "      <th>country</th>\n",
              "      <th>gender</th>\n",
              "      <th>marital</th>\n",
              "      <th>parenthood</th>\n",
              "    </tr>\n",
              "  </thead>\n",
              "  <tbody>\n",
              "    <tr>\n",
              "      <th>0</th>\n",
              "      <td>1</td>\n",
              "      <td>37.0</td>\n",
              "      <td>USA</td>\n",
              "      <td>m</td>\n",
              "      <td>married</td>\n",
              "      <td>y</td>\n",
              "    </tr>\n",
              "    <tr>\n",
              "      <th>1</th>\n",
              "      <td>2</td>\n",
              "      <td>29.0</td>\n",
              "      <td>IND</td>\n",
              "      <td>m</td>\n",
              "      <td>married</td>\n",
              "      <td>y</td>\n",
              "    </tr>\n",
              "    <tr>\n",
              "      <th>2</th>\n",
              "      <td>3</td>\n",
              "      <td>25</td>\n",
              "      <td>IND</td>\n",
              "      <td>m</td>\n",
              "      <td>single</td>\n",
              "      <td>n</td>\n",
              "    </tr>\n",
              "    <tr>\n",
              "      <th>3</th>\n",
              "      <td>4</td>\n",
              "      <td>32</td>\n",
              "      <td>USA</td>\n",
              "      <td>m</td>\n",
              "      <td>married</td>\n",
              "      <td>y</td>\n",
              "    </tr>\n",
              "    <tr>\n",
              "      <th>4</th>\n",
              "      <td>5</td>\n",
              "      <td>29</td>\n",
              "      <td>USA</td>\n",
              "      <td>m</td>\n",
              "      <td>married</td>\n",
              "      <td>y</td>\n",
              "    </tr>\n",
              "    <tr>\n",
              "      <th>5</th>\n",
              "      <td>6</td>\n",
              "      <td>35</td>\n",
              "      <td>IND</td>\n",
              "      <td>m</td>\n",
              "      <td>married</td>\n",
              "      <td>y</td>\n",
              "    </tr>\n",
              "    <tr>\n",
              "      <th>6</th>\n",
              "      <td>7</td>\n",
              "      <td>34</td>\n",
              "      <td>USA</td>\n",
              "      <td>m</td>\n",
              "      <td>married</td>\n",
              "      <td>y</td>\n",
              "    </tr>\n",
              "    <tr>\n",
              "      <th>7</th>\n",
              "      <td>8</td>\n",
              "      <td>29</td>\n",
              "      <td>VNM</td>\n",
              "      <td>m</td>\n",
              "      <td>single</td>\n",
              "      <td>n</td>\n",
              "    </tr>\n",
              "    <tr>\n",
              "      <th>8</th>\n",
              "      <td>9</td>\n",
              "      <td>61</td>\n",
              "      <td>USA</td>\n",
              "      <td>f</td>\n",
              "      <td>married</td>\n",
              "      <td>y</td>\n",
              "    </tr>\n",
              "    <tr>\n",
              "      <th>9</th>\n",
              "      <td>10</td>\n",
              "      <td>27</td>\n",
              "      <td>USA</td>\n",
              "      <td>m</td>\n",
              "      <td>single</td>\n",
              "      <td>n</td>\n",
              "    </tr>\n",
              "  </tbody>\n",
              "</table>\n",
              "</div>"
            ],
            "text/plain": [
              "   wid   age country gender  marital parenthood\n",
              "0    1  37.0     USA      m  married          y\n",
              "1    2  29.0     IND      m  married          y\n",
              "2    3    25     IND      m   single          n\n",
              "3    4    32     USA      m  married          y\n",
              "4    5    29     USA      m  married          y\n",
              "5    6    35     IND      m  married          y\n",
              "6    7    34     USA      m  married          y\n",
              "7    8    29     VNM      m   single          n\n",
              "8    9    61     USA      f  married          y\n",
              "9   10    27     USA      m   single          n"
            ]
          },
          "metadata": {
            "tags": []
          },
          "execution_count": 5
        }
      ]
    },
    {
      "cell_type": "code",
      "metadata": {
        "id": "25kkTQtXaKb7",
        "outputId": "bcd62d6d-66a3-4161-fa39-df8517b60f83",
        "colab": {
          "base_uri": "https://localhost:8080/",
          "height": 359
        }
      },
      "source": [
        "lib.view_happy_moments()"
      ],
      "execution_count": 6,
      "outputs": [
        {
          "output_type": "execute_result",
          "data": {
            "text/html": [
              "<div>\n",
              "<style scoped>\n",
              "    .dataframe tbody tr th:only-of-type {\n",
              "        vertical-align: middle;\n",
              "    }\n",
              "\n",
              "    .dataframe tbody tr th {\n",
              "        vertical-align: top;\n",
              "    }\n",
              "\n",
              "    .dataframe thead th {\n",
              "        text-align: right;\n",
              "    }\n",
              "</style>\n",
              "<table border=\"1\" class=\"dataframe\">\n",
              "  <thead>\n",
              "    <tr style=\"text-align: right;\">\n",
              "      <th></th>\n",
              "      <th>hmid</th>\n",
              "      <th>wid</th>\n",
              "      <th>reflection_period</th>\n",
              "      <th>original_hm</th>\n",
              "      <th>cleaned_hm</th>\n",
              "      <th>modified</th>\n",
              "      <th>num_sentence</th>\n",
              "      <th>ground_truth_category</th>\n",
              "      <th>predicted_category</th>\n",
              "    </tr>\n",
              "  </thead>\n",
              "  <tbody>\n",
              "    <tr>\n",
              "      <th>0</th>\n",
              "      <td>27673</td>\n",
              "      <td>2053</td>\n",
              "      <td>24h</td>\n",
              "      <td>I went on a successful date with someone I fel...</td>\n",
              "      <td>I went on a successful date with someone I fel...</td>\n",
              "      <td>True</td>\n",
              "      <td>1</td>\n",
              "      <td>NaN</td>\n",
              "      <td>affection</td>\n",
              "    </tr>\n",
              "    <tr>\n",
              "      <th>1</th>\n",
              "      <td>27674</td>\n",
              "      <td>2</td>\n",
              "      <td>24h</td>\n",
              "      <td>I was happy when my son got 90% marks in his e...</td>\n",
              "      <td>I was happy when my son got 90% marks in his e...</td>\n",
              "      <td>True</td>\n",
              "      <td>1</td>\n",
              "      <td>NaN</td>\n",
              "      <td>affection</td>\n",
              "    </tr>\n",
              "    <tr>\n",
              "      <th>2</th>\n",
              "      <td>27675</td>\n",
              "      <td>1936</td>\n",
              "      <td>24h</td>\n",
              "      <td>I went to the gym this morning and did yoga.</td>\n",
              "      <td>I went to the gym this morning and did yoga.</td>\n",
              "      <td>True</td>\n",
              "      <td>1</td>\n",
              "      <td>NaN</td>\n",
              "      <td>exercise</td>\n",
              "    </tr>\n",
              "    <tr>\n",
              "      <th>3</th>\n",
              "      <td>27676</td>\n",
              "      <td>206</td>\n",
              "      <td>24h</td>\n",
              "      <td>We had a serious talk with some friends of our...</td>\n",
              "      <td>We had a serious talk with some friends of our...</td>\n",
              "      <td>True</td>\n",
              "      <td>2</td>\n",
              "      <td>bonding</td>\n",
              "      <td>bonding</td>\n",
              "    </tr>\n",
              "    <tr>\n",
              "      <th>4</th>\n",
              "      <td>27677</td>\n",
              "      <td>6227</td>\n",
              "      <td>24h</td>\n",
              "      <td>I went with grandchildren to butterfly display...</td>\n",
              "      <td>I went with grandchildren to butterfly display...</td>\n",
              "      <td>True</td>\n",
              "      <td>1</td>\n",
              "      <td>NaN</td>\n",
              "      <td>affection</td>\n",
              "    </tr>\n",
              "    <tr>\n",
              "      <th>5</th>\n",
              "      <td>27678</td>\n",
              "      <td>45</td>\n",
              "      <td>24h</td>\n",
              "      <td>I meditated last night.</td>\n",
              "      <td>I meditated last night.</td>\n",
              "      <td>True</td>\n",
              "      <td>1</td>\n",
              "      <td>leisure</td>\n",
              "      <td>leisure</td>\n",
              "    </tr>\n",
              "    <tr>\n",
              "      <th>6</th>\n",
              "      <td>27679</td>\n",
              "      <td>195</td>\n",
              "      <td>24h</td>\n",
              "      <td>I made a new recipe for peasant bread, and it ...</td>\n",
              "      <td>I made a new recipe for peasant bread, and it ...</td>\n",
              "      <td>True</td>\n",
              "      <td>1</td>\n",
              "      <td>NaN</td>\n",
              "      <td>achievement</td>\n",
              "    </tr>\n",
              "    <tr>\n",
              "      <th>7</th>\n",
              "      <td>27680</td>\n",
              "      <td>740</td>\n",
              "      <td>24h</td>\n",
              "      <td>I got gift from my elder brother which was rea...</td>\n",
              "      <td>I got gift from my elder brother which was rea...</td>\n",
              "      <td>True</td>\n",
              "      <td>1</td>\n",
              "      <td>NaN</td>\n",
              "      <td>affection</td>\n",
              "    </tr>\n",
              "    <tr>\n",
              "      <th>8</th>\n",
              "      <td>27681</td>\n",
              "      <td>3</td>\n",
              "      <td>24h</td>\n",
              "      <td>YESTERDAY MY MOMS BIRTHDAY SO I ENJOYED</td>\n",
              "      <td>YESTERDAY MY MOMS BIRTHDAY SO I ENJOYED</td>\n",
              "      <td>True</td>\n",
              "      <td>1</td>\n",
              "      <td>NaN</td>\n",
              "      <td>enjoy_the_moment</td>\n",
              "    </tr>\n",
              "    <tr>\n",
              "      <th>9</th>\n",
              "      <td>27682</td>\n",
              "      <td>4833</td>\n",
              "      <td>24h</td>\n",
              "      <td>Watching cupcake wars with my three teen children</td>\n",
              "      <td>Watching cupcake wars with my three teen children</td>\n",
              "      <td>True</td>\n",
              "      <td>1</td>\n",
              "      <td>NaN</td>\n",
              "      <td>affection</td>\n",
              "    </tr>\n",
              "  </tbody>\n",
              "</table>\n",
              "</div>"
            ],
            "text/plain": [
              "    hmid   wid  ... ground_truth_category predicted_category\n",
              "0  27673  2053  ...                   NaN          affection\n",
              "1  27674     2  ...                   NaN          affection\n",
              "2  27675  1936  ...                   NaN           exercise\n",
              "3  27676   206  ...               bonding            bonding\n",
              "4  27677  6227  ...                   NaN          affection\n",
              "5  27678    45  ...               leisure            leisure\n",
              "6  27679   195  ...                   NaN        achievement\n",
              "7  27680   740  ...                   NaN          affection\n",
              "8  27681     3  ...                   NaN   enjoy_the_moment\n",
              "9  27682  4833  ...                   NaN          affection\n",
              "\n",
              "[10 rows x 9 columns]"
            ]
          },
          "metadata": {
            "tags": []
          },
          "execution_count": 6
        }
      ]
    },
    {
      "cell_type": "markdown",
      "metadata": {
        "id": "cJ2lD1iqaKb9"
      },
      "source": [
        "Right now, we will only be working with the demographics file. Load it with the function that is mentioned above."
      ]
    },
    {
      "cell_type": "code",
      "metadata": {
        "id": "NgzwJU47aKb9"
      },
      "source": [
        "demographics = lib.load_joined_data()"
      ],
      "execution_count": 7,
      "outputs": []
    },
    {
      "cell_type": "markdown",
      "metadata": {
        "id": "_xFArYjvaKb_"
      },
      "source": [
        "## Aggregating Demographic Information\n",
        "This data was crowdsourced, and demographic information was collected about worker's ages, countries, genders, marital status, and parenthood. To better understand the dataset, fill in the function called `get_distribution` to calculate the distribution of workers in each category for a certain property.\n",
        "\n",
        "Hint (highlight text to see):<font color='white'>count each value, then calculate a percentage afterwards</font>"
      ]
    },
    {
      "cell_type": "code",
      "metadata": {
        "id": "tyO3HDsSaKcA"
      },
      "source": [
        "def get_distribution(demographics, worker_property):\n",
        "    distribution = {}\n",
        "    for data in demographics:\n",
        "      prop = data[worker_property]\n",
        "\n",
        "      # If the key is already in the dictionary, we can just\n",
        "      # increment it by one. If it isn't, we need to\n",
        "      # create a new key and set it to 1\n",
        "      if prop in distribution:\n",
        "        distribution[prop] += 1\n",
        "      else:\n",
        "        distribution[prop] = 1\n",
        "\n",
        "    # We need to divide by the total to get a percentage\n",
        "    for key in distribution:\n",
        "      distribution[key] = distribution[key] / float(len(demographics))\n",
        "\n",
        "    # return a dictionary that maps a property to a percent\n",
        "    return distribution"
      ],
      "execution_count": 8,
      "outputs": []
    },
    {
      "cell_type": "markdown",
      "metadata": {
        "id": "EKqzznI_aKcB"
      },
      "source": [
        "After writing your function, run the cell below to save each distribution. Add calls to save all of the distributions!"
      ]
    },
    {
      "cell_type": "code",
      "metadata": {
        "id": "7UYaqYv5aKcC"
      },
      "source": [
        "age_distribution = get_distribution(demographics, 'age')\n",
        "# save country, gender, and marital distributions too!\n",
        "# YOUR CODE HERE!!\n",
        "country_distribution = get_distribution(demographics, 'country')\n",
        "gender_distribution = get_distribution(demographics, 'gender')\n",
        "marital_distribution = get_distribution(demographics, 'marital')\n"
      ],
      "execution_count": 9,
      "outputs": []
    },
    {
      "cell_type": "markdown",
      "metadata": {
        "id": "yNlCKfhWaKcE"
      },
      "source": [
        "Now, print out the distributions for marital status, country, and age. You can pass your dictionary to the function `lib.print_as_table` to print a table containing the distribution for better readability. The function takes two arguments: the dictionary and the title for the table. For example, to call it for age, you could write:\n",
        "\n",
        "`lib.print_as_table(age_distribution, 'Age Distribution')`"
      ]
    },
    {
      "cell_type": "code",
      "metadata": {
        "id": "OIlB22jtaKcF",
        "outputId": "cd0f6e1e-d4df-4db0-9173-bba8bd7e33c7",
        "colab": {
          "base_uri": "https://localhost:8080/",
          "height": 1000
        }
      },
      "source": [
        "# print out distributions here!\n",
        "lib.print_as_table(age_distribution, 'Age Distribution')\n",
        "lib.print_as_table(marital_distribution, 'Marital Distribution')\n",
        "lib.print_as_table(country_distribution, 'Country Distribution')"
      ],
      "execution_count": 10,
      "outputs": [
        {
          "output_type": "stream",
          "text": [
            "Age Distribution\n"
          ],
          "name": "stdout"
        },
        {
          "output_type": "display_data",
          "data": {
            "text/html": [
              "<table>\n",
              "<thead>\n",
              "<tr><th>Property         </th><th style=\"text-align: right;\">    Percent</th></tr>\n",
              "</thead>\n",
              "<tbody>\n",
              "<tr><td>29               </td><td style=\"text-align: right;\">0.0426916  </td></tr>\n",
              "<tr><td>26               </td><td style=\"text-align: right;\">0.0395285  </td></tr>\n",
              "<tr><td>27               </td><td style=\"text-align: right;\">0.0378376  </td></tr>\n",
              "<tr><td>25               </td><td style=\"text-align: right;\">0.0375093  </td></tr>\n",
              "<tr><td>30               </td><td style=\"text-align: right;\">0.0368329  </td></tr>\n",
              "<tr><td>28               </td><td style=\"text-align: right;\">0.036644   </td></tr>\n",
              "<tr><td>31               </td><td style=\"text-align: right;\">0.0303377  </td></tr>\n",
              "<tr><td>24               </td><td style=\"text-align: right;\">0.0288556  </td></tr>\n",
              "<tr><td>32               </td><td style=\"text-align: right;\">0.0281395  </td></tr>\n",
              "<tr><td>23               </td><td style=\"text-align: right;\">0.0280499  </td></tr>\n",
              "<tr><td>34               </td><td style=\"text-align: right;\">0.0266275  </td></tr>\n",
              "<tr><td>25.0             </td><td style=\"text-align: right;\">0.0224499  </td></tr>\n",
              "<tr><td>26.0             </td><td style=\"text-align: right;\">0.0216542  </td></tr>\n",
              "<tr><td>35               </td><td style=\"text-align: right;\">0.0210872  </td></tr>\n",
              "<tr><td>30.0             </td><td style=\"text-align: right;\">0.0209778  </td></tr>\n",
              "<tr><td>28.0             </td><td style=\"text-align: right;\">0.0207092  </td></tr>\n",
              "<tr><td>33               </td><td style=\"text-align: right;\">0.0202218  </td></tr>\n",
              "<tr><td>22               </td><td style=\"text-align: right;\">0.0199234  </td></tr>\n",
              "<tr><td>29.0             </td><td style=\"text-align: right;\">0.0187994  </td></tr>\n",
              "<tr><td>36               </td><td style=\"text-align: right;\">0.0187994  </td></tr>\n",
              "<tr><td>27.0             </td><td style=\"text-align: right;\">0.0180236  </td></tr>\n",
              "<tr><td>23.0             </td><td style=\"text-align: right;\">0.0178545  </td></tr>\n",
              "<tr><td>32.0             </td><td style=\"text-align: right;\">0.0175461  </td></tr>\n",
              "<tr><td>24.0             </td><td style=\"text-align: right;\">0.0157159  </td></tr>\n",
              "<tr><td>21               </td><td style=\"text-align: right;\">0.015696   </td></tr>\n",
              "<tr><td>38               </td><td style=\"text-align: right;\">0.0152385  </td></tr>\n",
              "<tr><td>22.0             </td><td style=\"text-align: right;\">0.0148207  </td></tr>\n",
              "<tr><td>37               </td><td style=\"text-align: right;\">0.0134878  </td></tr>\n",
              "<tr><td>33.0             </td><td style=\"text-align: right;\">0.0134083  </td></tr>\n",
              "<tr><td>35.0             </td><td style=\"text-align: right;\">0.0127219  </td></tr>\n",
              "<tr><td>31.0             </td><td style=\"text-align: right;\">0.0122246  </td></tr>\n",
              "<tr><td>34.0             </td><td style=\"text-align: right;\">0.0117472  </td></tr>\n",
              "<tr><td>40               </td><td style=\"text-align: right;\">0.0115781  </td></tr>\n",
              "<tr><td>41               </td><td style=\"text-align: right;\">0.0101059  </td></tr>\n",
              "<tr><td>39               </td><td style=\"text-align: right;\">0.00966827 </td></tr>\n",
              "<tr><td>21.0             </td><td style=\"text-align: right;\">0.00952902 </td></tr>\n",
              "<tr><td>44               </td><td style=\"text-align: right;\">0.00934003 </td></tr>\n",
              "<tr><td>37.0             </td><td style=\"text-align: right;\">0.00898195 </td></tr>\n",
              "<tr><td>36.0             </td><td style=\"text-align: right;\">0.00875317 </td></tr>\n",
              "<tr><td>20               </td><td style=\"text-align: right;\">0.00860397 </td></tr>\n",
              "<tr><td>38.0             </td><td style=\"text-align: right;\">0.00676381 </td></tr>\n",
              "<tr><td>20.0             </td><td style=\"text-align: right;\">0.0064853  </td></tr>\n",
              "<tr><td>43               </td><td style=\"text-align: right;\">0.006356   </td></tr>\n",
              "<tr><td>42               </td><td style=\"text-align: right;\">0.00605759 </td></tr>\n",
              "<tr><td>41.0             </td><td style=\"text-align: right;\">0.00567961 </td></tr>\n",
              "<tr><td>39.0             </td><td style=\"text-align: right;\">0.00563983 </td></tr>\n",
              "<tr><td>19               </td><td style=\"text-align: right;\">0.00560999 </td></tr>\n",
              "<tr><td>45.0             </td><td style=\"text-align: right;\">0.00555031 </td></tr>\n",
              "<tr><td>42.0             </td><td style=\"text-align: right;\">0.00544089 </td></tr>\n",
              "<tr><td>54               </td><td style=\"text-align: right;\">0.00536132 </td></tr>\n",
              "<tr><td>43.0             </td><td style=\"text-align: right;\">0.00503307 </td></tr>\n",
              "<tr><td>40.0             </td><td style=\"text-align: right;\">0.00477446 </td></tr>\n",
              "<tr><td>47               </td><td style=\"text-align: right;\">0.00453573 </td></tr>\n",
              "<tr><td>45               </td><td style=\"text-align: right;\">0.00450589 </td></tr>\n",
              "<tr><td>46               </td><td style=\"text-align: right;\">0.00446611 </td></tr>\n",
              "<tr><td>19.0             </td><td style=\"text-align: right;\">0.00437659 </td></tr>\n",
              "<tr><td>53               </td><td style=\"text-align: right;\">0.00408813 </td></tr>\n",
              "<tr><td>49               </td><td style=\"text-align: right;\">0.00402845 </td></tr>\n",
              "<tr><td>48               </td><td style=\"text-align: right;\">0.00393893 </td></tr>\n",
              "<tr><td>56               </td><td style=\"text-align: right;\">0.00373004 </td></tr>\n",
              "<tr><td>51               </td><td style=\"text-align: right;\">0.00373004 </td></tr>\n",
              "<tr><td>50               </td><td style=\"text-align: right;\">0.00373004 </td></tr>\n",
              "<tr><td>44.0             </td><td style=\"text-align: right;\">0.0037201  </td></tr>\n",
              "<tr><td>55               </td><td style=\"text-align: right;\">0.00360074 </td></tr>\n",
              "<tr><td>61               </td><td style=\"text-align: right;\">0.00337196 </td></tr>\n",
              "<tr><td>48.0             </td><td style=\"text-align: right;\">0.00322276 </td></tr>\n",
              "<tr><td>52.0             </td><td style=\"text-align: right;\">0.00304372 </td></tr>\n",
              "<tr><td>52               </td><td style=\"text-align: right;\">0.00300393 </td></tr>\n",
              "<tr><td>49.0             </td><td style=\"text-align: right;\">0.00299398 </td></tr>\n",
              "<tr><td>51.0             </td><td style=\"text-align: right;\">0.00271547 </td></tr>\n",
              "<tr><td>57.0             </td><td style=\"text-align: right;\">0.00256627 </td></tr>\n",
              "<tr><td>47.0             </td><td style=\"text-align: right;\">0.00256627 </td></tr>\n",
              "<tr><td>18               </td><td style=\"text-align: right;\">0.00243696 </td></tr>\n",
              "<tr><td>46.0             </td><td style=\"text-align: right;\">0.00236733 </td></tr>\n",
              "<tr><td>62               </td><td style=\"text-align: right;\">0.00232755 </td></tr>\n",
              "<tr><td>57               </td><td style=\"text-align: right;\">0.00223803 </td></tr>\n",
              "<tr><td>18.0             </td><td style=\"text-align: right;\">0.00217835 </td></tr>\n",
              "<tr><td>59               </td><td style=\"text-align: right;\">0.00182026 </td></tr>\n",
              "<tr><td>58               </td><td style=\"text-align: right;\">0.00173074 </td></tr>\n",
              "<tr><td>50.0             </td><td style=\"text-align: right;\">0.00167106 </td></tr>\n",
              "<tr><td>58.0             </td><td style=\"text-align: right;\">0.00166111 </td></tr>\n",
              "<tr><td>60               </td><td style=\"text-align: right;\">0.0015318  </td></tr>\n",
              "<tr><td>68               </td><td style=\"text-align: right;\">0.00143234 </td></tr>\n",
              "<tr><td>65               </td><td style=\"text-align: right;\">0.00137266 </td></tr>\n",
              "<tr><td>66               </td><td style=\"text-align: right;\">0.00137266 </td></tr>\n",
              "<tr><td>54.0             </td><td style=\"text-align: right;\">0.00137266 </td></tr>\n",
              "<tr><td>60.0             </td><td style=\"text-align: right;\">0.00113393 </td></tr>\n",
              "<tr><td>56.0             </td><td style=\"text-align: right;\">0.00113393 </td></tr>\n",
              "<tr><td>53.0             </td><td style=\"text-align: right;\">0.00110409 </td></tr>\n",
              "<tr><td>63.0             </td><td style=\"text-align: right;\">0.00104441 </td></tr>\n",
              "<tr><td>62.0             </td><td style=\"text-align: right;\">0.00104441 </td></tr>\n",
              "<tr><td>64               </td><td style=\"text-align: right;\">0.000984732</td></tr>\n",
              "<tr><td>59.0             </td><td style=\"text-align: right;\">0.000984732</td></tr>\n",
              "<tr><td>55.0             </td><td style=\"text-align: right;\">0.000925051</td></tr>\n",
              "<tr><td>nan              </td><td style=\"text-align: right;\">0.000925051</td></tr>\n",
              "<tr><td>61.0             </td><td style=\"text-align: right;\">0.000895211</td></tr>\n",
              "<tr><td>69               </td><td style=\"text-align: right;\">0.00083553 </td></tr>\n",
              "<tr><td>74               </td><td style=\"text-align: right;\">0.00083553 </td></tr>\n",
              "<tr><td>3                </td><td style=\"text-align: right;\">0.000775849</td></tr>\n",
              "<tr><td>67               </td><td style=\"text-align: right;\">0.000775849</td></tr>\n",
              "<tr><td>65.0             </td><td style=\"text-align: right;\">0.000686328</td></tr>\n",
              "<tr><td>70               </td><td style=\"text-align: right;\">0.000656488</td></tr>\n",
              "<tr><td>83               </td><td style=\"text-align: right;\">0.000626647</td></tr>\n",
              "<tr><td>66.0             </td><td style=\"text-align: right;\">0.000537126</td></tr>\n",
              "<tr><td>63               </td><td style=\"text-align: right;\">0.000537126</td></tr>\n",
              "<tr><td>233.0            </td><td style=\"text-align: right;\">0.000507286</td></tr>\n",
              "<tr><td>72.0             </td><td style=\"text-align: right;\">0.000447605</td></tr>\n",
              "<tr><td>prefer not to say</td><td style=\"text-align: right;\">0.000417765</td></tr>\n",
              "<tr><td>64.0             </td><td style=\"text-align: right;\">0.000417765</td></tr>\n",
              "<tr><td>68.0             </td><td style=\"text-align: right;\">0.000268563</td></tr>\n",
              "<tr><td>70.0             </td><td style=\"text-align: right;\">0.000238723</td></tr>\n",
              "<tr><td>72               </td><td style=\"text-align: right;\">0.000179042</td></tr>\n",
              "<tr><td>69.0             </td><td style=\"text-align: right;\">0.000179042</td></tr>\n",
              "<tr><td>71               </td><td style=\"text-align: right;\">0.000179042</td></tr>\n",
              "<tr><td>77               </td><td style=\"text-align: right;\">0.000149202</td></tr>\n",
              "<tr><td>74.0             </td><td style=\"text-align: right;\">0.000149202</td></tr>\n",
              "<tr><td>73               </td><td style=\"text-align: right;\">0.000149202</td></tr>\n",
              "<tr><td>71.0             </td><td style=\"text-align: right;\">0.000149202</td></tr>\n",
              "<tr><td>67.0             </td><td style=\"text-align: right;\">0.000129308</td></tr>\n",
              "<tr><td>73.0             </td><td style=\"text-align: right;\">0.000119361</td></tr>\n",
              "<tr><td>227              </td><td style=\"text-align: right;\">8.95211e-05</td></tr>\n",
              "<tr><td>2                </td><td style=\"text-align: right;\">8.95211e-05</td></tr>\n",
              "<tr><td>2.0              </td><td style=\"text-align: right;\">8.95211e-05</td></tr>\n",
              "<tr><td>79               </td><td style=\"text-align: right;\">5.96807e-05</td></tr>\n",
              "<tr><td>80               </td><td style=\"text-align: right;\">5.96807e-05</td></tr>\n",
              "<tr><td>88.0             </td><td style=\"text-align: right;\">5.96807e-05</td></tr>\n",
              "<tr><td>75               </td><td style=\"text-align: right;\">5.96807e-05</td></tr>\n",
              "<tr><td>76.0             </td><td style=\"text-align: right;\">5.96807e-05</td></tr>\n",
              "<tr><td>17.0             </td><td style=\"text-align: right;\">5.96807e-05</td></tr>\n",
              "<tr><td>98               </td><td style=\"text-align: right;\">2.98404e-05</td></tr>\n",
              "<tr><td>3.0              </td><td style=\"text-align: right;\">2.98404e-05</td></tr>\n",
              "<tr><td>84               </td><td style=\"text-align: right;\">2.98404e-05</td></tr>\n",
              "<tr><td>95               </td><td style=\"text-align: right;\">2.98404e-05</td></tr>\n",
              "<tr><td>čá               </td><td style=\"text-align: right;\">2.98404e-05</td></tr>\n",
              "<tr><td>81.0             </td><td style=\"text-align: right;\">2.98404e-05</td></tr>\n",
              "<tr><td>75.0             </td><td style=\"text-align: right;\">2.98404e-05</td></tr>\n",
              "<tr><td>79.0             </td><td style=\"text-align: right;\">2.98404e-05</td></tr>\n",
              "<tr><td>4                </td><td style=\"text-align: right;\">2.98404e-05</td></tr>\n",
              "<tr><td>60yrs            </td><td style=\"text-align: right;\">2.98404e-05</td></tr>\n",
              "<tr><td>78.0             </td><td style=\"text-align: right;\">2.98404e-05</td></tr>\n",
              "</tbody>\n",
              "</table>"
            ],
            "text/plain": [
              "<IPython.core.display.HTML object>"
            ]
          },
          "metadata": {
            "tags": []
          }
        },
        {
          "output_type": "stream",
          "text": [
            "Marital Distribution\n"
          ],
          "name": "stdout"
        },
        {
          "output_type": "display_data",
          "data": {
            "text/html": [
              "<table>\n",
              "<thead>\n",
              "<tr><th>Property  </th><th style=\"text-align: right;\">   Percent</th></tr>\n",
              "</thead>\n",
              "<tbody>\n",
              "<tr><td>single    </td><td style=\"text-align: right;\">0.538181  </td></tr>\n",
              "<tr><td>married   </td><td style=\"text-align: right;\">0.41123   </td></tr>\n",
              "<tr><td>divorced  </td><td style=\"text-align: right;\">0.0378276 </td></tr>\n",
              "<tr><td>separated </td><td style=\"text-align: right;\">0.00645546</td></tr>\n",
              "<tr><td>widowed   </td><td style=\"text-align: right;\">0.00474462</td></tr>\n",
              "<tr><td>nan       </td><td style=\"text-align: right;\">0.00156165</td></tr>\n",
              "</tbody>\n",
              "</table>"
            ],
            "text/plain": [
              "<IPython.core.display.HTML object>"
            ]
          },
          "metadata": {
            "tags": []
          }
        },
        {
          "output_type": "stream",
          "text": [
            "Country Distribution\n"
          ],
          "name": "stdout"
        },
        {
          "output_type": "display_data",
          "data": {
            "text/html": [
              "<table>\n",
              "<thead>\n",
              "<tr><th>Property  </th><th style=\"text-align: right;\">    Percent</th></tr>\n",
              "</thead>\n",
              "<tbody>\n",
              "<tr><td>USA       </td><td style=\"text-align: right;\">0.786423   </td></tr>\n",
              "<tr><td>IND       </td><td style=\"text-align: right;\">0.1664     </td></tr>\n",
              "<tr><td>VEN       </td><td style=\"text-align: right;\">0.00584871 </td></tr>\n",
              "<tr><td>CAN       </td><td style=\"text-align: right;\">0.00552047 </td></tr>\n",
              "<tr><td>GBR       </td><td style=\"text-align: right;\">0.00362063 </td></tr>\n",
              "<tr><td>PHL       </td><td style=\"text-align: right;\">0.00277515 </td></tr>\n",
              "<tr><td>nan       </td><td style=\"text-align: right;\">0.0020192  </td></tr>\n",
              "<tr><td>MEX       </td><td style=\"text-align: right;\">0.00149202 </td></tr>\n",
              "<tr><td>VNM       </td><td style=\"text-align: right;\">0.00125329 </td></tr>\n",
              "<tr><td>BRA       </td><td style=\"text-align: right;\">0.00122345 </td></tr>\n",
              "<tr><td>AUS       </td><td style=\"text-align: right;\">0.00116377 </td></tr>\n",
              "<tr><td>MKD       </td><td style=\"text-align: right;\">0.00103447 </td></tr>\n",
              "<tr><td>SRB       </td><td style=\"text-align: right;\">0.000954891</td></tr>\n",
              "<tr><td>THA       </td><td style=\"text-align: right;\">0.000895211</td></tr>\n",
              "<tr><td>IDN       </td><td style=\"text-align: right;\">0.000895211</td></tr>\n",
              "<tr><td>PRT       </td><td style=\"text-align: right;\">0.00083553 </td></tr>\n",
              "<tr><td>DEU       </td><td style=\"text-align: right;\">0.00083553 </td></tr>\n",
              "<tr><td>NGA       </td><td style=\"text-align: right;\">0.00080569 </td></tr>\n",
              "<tr><td>BGD       </td><td style=\"text-align: right;\">0.000686328</td></tr>\n",
              "<tr><td>BGR       </td><td style=\"text-align: right;\">0.000666435</td></tr>\n",
              "<tr><td>JAM       </td><td style=\"text-align: right;\">0.000596807</td></tr>\n",
              "<tr><td>EGY       </td><td style=\"text-align: right;\">0.000566967</td></tr>\n",
              "<tr><td>DOM       </td><td style=\"text-align: right;\">0.000507286</td></tr>\n",
              "<tr><td>DNK       </td><td style=\"text-align: right;\">0.000507286</td></tr>\n",
              "<tr><td>TUR       </td><td style=\"text-align: right;\">0.000507286</td></tr>\n",
              "<tr><td>FRA       </td><td style=\"text-align: right;\">0.000507286</td></tr>\n",
              "<tr><td>ALB       </td><td style=\"text-align: right;\">0.000477446</td></tr>\n",
              "<tr><td>ROU       </td><td style=\"text-align: right;\">0.000457552</td></tr>\n",
              "<tr><td>URY       </td><td style=\"text-align: right;\">0.000417765</td></tr>\n",
              "<tr><td>LTU       </td><td style=\"text-align: right;\">0.000417765</td></tr>\n",
              "<tr><td>GRC       </td><td style=\"text-align: right;\">0.000417765</td></tr>\n",
              "<tr><td>PAK       </td><td style=\"text-align: right;\">0.000387925</td></tr>\n",
              "<tr><td>MDA       </td><td style=\"text-align: right;\">0.000358084</td></tr>\n",
              "<tr><td>PER       </td><td style=\"text-align: right;\">0.000358084</td></tr>\n",
              "<tr><td>ARE       </td><td style=\"text-align: right;\">0.000358084</td></tr>\n",
              "<tr><td>ITA       </td><td style=\"text-align: right;\">0.000358084</td></tr>\n",
              "<tr><td>NZL       </td><td style=\"text-align: right;\">0.000358084</td></tr>\n",
              "<tr><td>KEN       </td><td style=\"text-align: right;\">0.000328244</td></tr>\n",
              "<tr><td>COL       </td><td style=\"text-align: right;\">0.000318297</td></tr>\n",
              "<tr><td>IRL       </td><td style=\"text-align: right;\">0.000298404</td></tr>\n",
              "<tr><td>TTO       </td><td style=\"text-align: right;\">0.000298404</td></tr>\n",
              "<tr><td>RUS       </td><td style=\"text-align: right;\">0.000298404</td></tr>\n",
              "<tr><td>PRI       </td><td style=\"text-align: right;\">0.000298404</td></tr>\n",
              "<tr><td>SWE       </td><td style=\"text-align: right;\">0.000268563</td></tr>\n",
              "<tr><td>SGP       </td><td style=\"text-align: right;\">0.000238723</td></tr>\n",
              "<tr><td>ESP       </td><td style=\"text-align: right;\">0.000238723</td></tr>\n",
              "<tr><td>FIN       </td><td style=\"text-align: right;\">0.000208882</td></tr>\n",
              "<tr><td>ZAF       </td><td style=\"text-align: right;\">0.000208882</td></tr>\n",
              "<tr><td>KWT       </td><td style=\"text-align: right;\">0.000179042</td></tr>\n",
              "<tr><td>MAC       </td><td style=\"text-align: right;\">0.000179042</td></tr>\n",
              "<tr><td>UGA       </td><td style=\"text-align: right;\">0.000179042</td></tr>\n",
              "<tr><td>AUT       </td><td style=\"text-align: right;\">0.000169095</td></tr>\n",
              "<tr><td>ARM       </td><td style=\"text-align: right;\">0.000149202</td></tr>\n",
              "<tr><td>POL       </td><td style=\"text-align: right;\">0.000149202</td></tr>\n",
              "<tr><td>NIC       </td><td style=\"text-align: right;\">0.000149202</td></tr>\n",
              "<tr><td>JPN       </td><td style=\"text-align: right;\">0.000149202</td></tr>\n",
              "<tr><td>NLD       </td><td style=\"text-align: right;\">0.000149202</td></tr>\n",
              "<tr><td>MYS       </td><td style=\"text-align: right;\">0.000149202</td></tr>\n",
              "<tr><td>UMI       </td><td style=\"text-align: right;\">0.000149202</td></tr>\n",
              "<tr><td>ASM       </td><td style=\"text-align: right;\">0.000129308</td></tr>\n",
              "<tr><td>LKA       </td><td style=\"text-align: right;\">0.000119361</td></tr>\n",
              "<tr><td>BEL       </td><td style=\"text-align: right;\">0.000119361</td></tr>\n",
              "<tr><td>DZA       </td><td style=\"text-align: right;\">0.000119361</td></tr>\n",
              "<tr><td>AFG       </td><td style=\"text-align: right;\">0.000119361</td></tr>\n",
              "<tr><td>TWN       </td><td style=\"text-align: right;\">8.95211e-05</td></tr>\n",
              "<tr><td>KNA       </td><td style=\"text-align: right;\">8.95211e-05</td></tr>\n",
              "<tr><td>ISL       </td><td style=\"text-align: right;\">8.95211e-05</td></tr>\n",
              "<tr><td>MLT       </td><td style=\"text-align: right;\">8.95211e-05</td></tr>\n",
              "<tr><td>NPL       </td><td style=\"text-align: right;\">5.96807e-05</td></tr>\n",
              "<tr><td>KOR       </td><td style=\"text-align: right;\">5.96807e-05</td></tr>\n",
              "<tr><td>GMB       </td><td style=\"text-align: right;\">5.96807e-05</td></tr>\n",
              "<tr><td>CZE       </td><td style=\"text-align: right;\">5.96807e-05</td></tr>\n",
              "<tr><td>SVN       </td><td style=\"text-align: right;\">5.96807e-05</td></tr>\n",
              "<tr><td>ARG       </td><td style=\"text-align: right;\">5.96807e-05</td></tr>\n",
              "<tr><td>EST       </td><td style=\"text-align: right;\">5.96807e-05</td></tr>\n",
              "<tr><td>CHL       </td><td style=\"text-align: right;\">5.96807e-05</td></tr>\n",
              "<tr><td>MAR       </td><td style=\"text-align: right;\">5.96807e-05</td></tr>\n",
              "<tr><td>BRB       </td><td style=\"text-align: right;\">5.96807e-05</td></tr>\n",
              "<tr><td>HRV       </td><td style=\"text-align: right;\">5.96807e-05</td></tr>\n",
              "<tr><td>TCA       </td><td style=\"text-align: right;\">5.96807e-05</td></tr>\n",
              "<tr><td>GTM       </td><td style=\"text-align: right;\">5.96807e-05</td></tr>\n",
              "<tr><td>GHA       </td><td style=\"text-align: right;\">2.98404e-05</td></tr>\n",
              "<tr><td>SAU       </td><td style=\"text-align: right;\">2.98404e-05</td></tr>\n",
              "<tr><td>ECU       </td><td style=\"text-align: right;\">2.98404e-05</td></tr>\n",
              "<tr><td>ZMB       </td><td style=\"text-align: right;\">2.98404e-05</td></tr>\n",
              "<tr><td>ISR       </td><td style=\"text-align: right;\">2.98404e-05</td></tr>\n",
              "<tr><td>LVA       </td><td style=\"text-align: right;\">2.98404e-05</td></tr>\n",
              "<tr><td>KAZ       </td><td style=\"text-align: right;\">2.98404e-05</td></tr>\n",
              "<tr><td>NOR       </td><td style=\"text-align: right;\">2.98404e-05</td></tr>\n",
              "<tr><td>CRI       </td><td style=\"text-align: right;\">2.98404e-05</td></tr>\n",
              "<tr><td>ETH       </td><td style=\"text-align: right;\">2.98404e-05</td></tr>\n",
              "<tr><td>BHS       </td><td style=\"text-align: right;\">2.98404e-05</td></tr>\n",
              "<tr><td>VIR       </td><td style=\"text-align: right;\">2.98404e-05</td></tr>\n",
              "<tr><td>IRQ       </td><td style=\"text-align: right;\">2.98404e-05</td></tr>\n",
              "<tr><td>HKG       </td><td style=\"text-align: right;\">2.98404e-05</td></tr>\n",
              "<tr><td>MUS       </td><td style=\"text-align: right;\">2.98404e-05</td></tr>\n",
              "<tr><td>TUN       </td><td style=\"text-align: right;\">2.98404e-05</td></tr>\n",
              "<tr><td>SUR       </td><td style=\"text-align: right;\">2.98404e-05</td></tr>\n",
              "<tr><td>SLV       </td><td style=\"text-align: right;\">2.98404e-05</td></tr>\n",
              "<tr><td>CYP       </td><td style=\"text-align: right;\">2.98404e-05</td></tr>\n",
              "<tr><td>UKR       </td><td style=\"text-align: right;\">2.98404e-05</td></tr>\n",
              "</tbody>\n",
              "</table>"
            ],
            "text/plain": [
              "<IPython.core.display.HTML object>"
            ]
          },
          "metadata": {
            "tags": []
          }
        }
      ]
    },
    {
      "cell_type": "markdown",
      "metadata": {
        "id": "zFElWZnCaKcH"
      },
      "source": [
        "If you wrote a fairly simple function to create your dictionary, you may notice some issues with these tables that make them less informative than we would like:\n",
        "1. There are a lot of ages! Furthermore, some are represented as floats and some are ints, but 25 and 25.0 should mean the same thing!\n",
        "1. There are also a lot of countries, but only two of them (USA and India) are very prevalent.\n",
        "1. There are some _weird_ unwanted values like nan (not a number, which means that this was not filled in in the table) and \"prefer not to say\" for age.\n",
        "\n",
        "To solve these problems, we will write three more functions:\n",
        "1. `get_age_distribution`  \n",
        "   This function will get the distribution of ages using a range instead of using single ages. You can use the buckets 10–20, 20–30, ..., 80-90. If you come across a value that does not fit in one of the ranges, skip it!\n",
        "2. `get_country_distribution`  \n",
        "   This function will get the distribution of countries, but will group together all countries with less than .4% of the overall workers into one group that you should call \"OTHER\". You should exclude nan values.\n",
        "3. `get_distribution_new`  \n",
        "   This function should be the same as your original `get_distribution` function, but should ignore nan values!"
      ]
    },
    {
      "cell_type": "code",
      "metadata": {
        "id": "DPtMxt8YaKcI"
      },
      "source": [
        "def get_age_distribution(demographics):\n",
        "    # these are the buckets that you should use. Use any method you want to see if an age falls within a bucket.\n",
        "    buckets = ['10-20', '20-30', '30-40', '40-50', '50-60', '60-70', '70-80', '80-90']\n",
        "    # use a dictionary to count workers\n",
        "    # you will want to convert values to integers. There is at least one value that is not a number and is invalid\n",
        "    # try to see if you can ignore this value. if you don't know how, talk to a TA!\n",
        "    old_age_distribution = get_distribution(demographics, 'age')\n",
        "    new_age_distribution = {}\n",
        "\n",
        "    for key in old_age_distribution:\n",
        "      # This filters out nans\n",
        "      if type(key) is float:\n",
        "        continue\n",
        "\n",
        "      try:\n",
        "        new_key = float(key)\n",
        "        is_float = True\n",
        "      except:\n",
        "        is_float = False\n",
        "\n",
        "      if is_float:\n",
        "        new_key = new_key // 10 - 1\n",
        "        new_key = max(new_key, 0)\n",
        "        new_key = min(new_key, len(buckets) - 1)\n",
        "        new_key = buckets[int(new_key)]\n",
        "\n",
        "        if new_key in new_age_distribution:\n",
        "          new_age_distribution[new_key] += old_age_distribution[key]\n",
        "        else:\n",
        "          new_age_distribution[new_key] = old_age_distribution[key]\n",
        "\n",
        "    return new_age_distribution\n",
        "\n",
        "\n",
        "def get_country_distribution(demographics):\n",
        "    # create a distribution, but remove everything with less than 0.4%\n",
        "    modified_distribution = {}\n",
        "    old_country_distribution = get_distribution(demographics, 'country')\n",
        "\n",
        "    keys = list(old_country_distribution.keys())\n",
        "\n",
        "    modified_distribution = {}\n",
        "    for key in keys:\n",
        "      if old_country_distribution[key] > 0.004:\n",
        "        modified_distribution[key] = old_country_distribution[key]\n",
        "\n",
        "    return modified_distribution\n",
        "\n",
        "def get_distribution_new(demographics, worker_property):\n",
        "    # hint: to see if a value is nan, run type(val) == str or not np.isnan(val)\n",
        "    # make this return the distribution\n",
        "    return {}"
      ],
      "execution_count": 35,
      "outputs": []
    },
    {
      "cell_type": "code",
      "metadata": {
        "id": "fM5tOT3LaKcL"
      },
      "source": [
        "# call the new get_distribution functions to save your age, country, marital, gender, and parenthood distributions\n",
        "new_age_distribution = get_age_distribution(demographics)\n",
        "new_country_distribution = get_country_distribution(demographics)"
      ],
      "execution_count": 36,
      "outputs": []
    },
    {
      "cell_type": "code",
      "metadata": {
        "id": "0ALr70U4aKcN",
        "outputId": "a5f22565-f980-4edf-cdea-0d1cbf106b54",
        "colab": {
          "base_uri": "https://localhost:8080/",
          "height": 349
        }
      },
      "source": [
        "# call `lib.print_as_table` on the new distributions, to see if your new functions helped\n",
        "lib.print_as_table(new_age_distribution, 'Age Distribution')\n",
        "lib.print_as_table(new_country_distribution, 'Country Distribution')"
      ],
      "execution_count": 37,
      "outputs": [
        {
          "output_type": "stream",
          "text": [
            "Age Distribution\n"
          ],
          "name": "stdout"
        },
        {
          "output_type": "display_data",
          "data": {
            "text/html": [
              "<table>\n",
              "<thead>\n",
              "<tr><th>Property  </th><th style=\"text-align: right;\">   Percent</th></tr>\n",
              "</thead>\n",
              "<tbody>\n",
              "<tr><td>20-30     </td><td style=\"text-align: right;\">0.461382  </td></tr>\n",
              "<tr><td>30-40     </td><td style=\"text-align: right;\">0.339205  </td></tr>\n",
              "<tr><td>40-50     </td><td style=\"text-align: right;\">0.106262  </td></tr>\n",
              "<tr><td>50-60     </td><td style=\"text-align: right;\">0.0502114 </td></tr>\n",
              "<tr><td>60-70     </td><td style=\"text-align: right;\">0.0208783 </td></tr>\n",
              "<tr><td>10-20     </td><td style=\"text-align: right;\">0.0156761 </td></tr>\n",
              "<tr><td>70-80     </td><td style=\"text-align: right;\">0.00352116</td></tr>\n",
              "<tr><td>80-90     </td><td style=\"text-align: right;\">0.00146218</td></tr>\n",
              "</tbody>\n",
              "</table>"
            ],
            "text/plain": [
              "<IPython.core.display.HTML object>"
            ]
          },
          "metadata": {
            "tags": []
          }
        },
        {
          "output_type": "stream",
          "text": [
            "Country Distribution\n"
          ],
          "name": "stdout"
        },
        {
          "output_type": "display_data",
          "data": {
            "text/html": [
              "<table>\n",
              "<thead>\n",
              "<tr><th>Property  </th><th style=\"text-align: right;\">   Percent</th></tr>\n",
              "</thead>\n",
              "<tbody>\n",
              "<tr><td>USA       </td><td style=\"text-align: right;\">0.786423  </td></tr>\n",
              "<tr><td>IND       </td><td style=\"text-align: right;\">0.1664    </td></tr>\n",
              "<tr><td>VEN       </td><td style=\"text-align: right;\">0.00584871</td></tr>\n",
              "<tr><td>CAN       </td><td style=\"text-align: right;\">0.00552047</td></tr>\n",
              "</tbody>\n",
              "</table>"
            ],
            "text/plain": [
              "<IPython.core.display.HTML object>"
            ]
          },
          "metadata": {
            "tags": []
          }
        }
      ]
    },
    {
      "cell_type": "markdown",
      "metadata": {
        "id": "8GTgCGjoaKcO"
      },
      "source": [
        "## Distribution Visualizations\n",
        "\n",
        "Finally, using the library functions `lib.create_histogram` and `lib.create_pie`, create histograms and pie charts for our properties. Create a histogram for age; for the other properties, create pie charts. The functions take two parameters: the distributions and a title.  For example, to call it for age, you could write:\n",
        "\n",
        "`lib.create_pie(age_distribution, 'Age Distribution')`\n"
      ]
    },
    {
      "cell_type": "code",
      "metadata": {
        "id": "IREkG5tnaKcP",
        "outputId": "a337d742-bcb3-4774-f5b6-2d492303e5bc",
        "colab": {
          "base_uri": "https://localhost:8080/",
          "height": 264
        }
      },
      "source": [
        "# create pie charts for all properties\n",
        "lib.create_pie(new_age_distribution, 'Age Distribution')"
      ],
      "execution_count": 38,
      "outputs": [
        {
          "output_type": "display_data",
          "data": {
            "image/png": "[encoded data removed]",
            "text/plain": [
              "<Figure size 432x288 with 1 Axes>"
            ]
          },
          "metadata": {
            "tags": []
          }
        }
      ]
    },
    {
      "cell_type": "code",
      "metadata": {
        "id": "7KVbkO23ard1",
        "outputId": "9529bd58-c792-499e-cdb2-649235723809",
        "colab": {
          "base_uri": "https://localhost:8080/",
          "height": 264
        }
      },
      "source": [
        "lib.create_pie(new_country_distribution, 'Country Distribution')"
      ],
      "execution_count": 34,
      "outputs": [
        {
          "output_type": "display_data",
          "data": {
            "image/png": "[encoded data removed]",
            "text/plain": [
              "<Figure size 432x288 with 1 Axes>"
            ]
          },
          "metadata": {
            "tags": []
          }
        }
      ]
    }
  ]
}